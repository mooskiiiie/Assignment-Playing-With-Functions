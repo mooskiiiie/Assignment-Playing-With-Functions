{
 "cells": [
  {
   "cell_type": "code",
   "execution_count": 35,
   "metadata": {},
   "outputs": [
    {
     "name": "stdout",
     "output_type": "stream",
     "text": [
      "What is the cirumference? 42\n",
      "140.37433155080214\n"
     ]
    }
   ],
   "source": [
    "#1 \n",
    "\n",
    "def circumference_value(number):\n",
    "    number = circumference\n",
    "    return (number * number) / (4 * 3.1416)\n",
    "#input the circumference\n",
    "circumference = float(input('What is the cirumference? '))\n",
    "#variable number will take the value of circumference if it calls the function\n",
    "number = circumference_value(number)\n",
    "print(number)\n"
   ]
  },
  {
   "cell_type": "code",
   "execution_count": 40,
   "metadata": {},
   "outputs": [
    {
     "name": "stdout",
     "output_type": "stream",
     "text": [
      "evilO\n"
     ]
    }
   ],
   "source": [
    "#2 \n",
    "\n",
    "def reverse_string(string):\n",
    "    return string[::-1]\n",
    "text = reverse_string(\"Olive\")\n",
    "print(text)"
   ]
  },
  {
   "cell_type": "code",
   "execution_count": 61,
   "metadata": {},
   "outputs": [
    {
     "name": "stdout",
     "output_type": "stream",
     "text": [
      "6.0\n"
     ]
    }
   ],
   "source": [
    "#3 \n",
    "\n",
    "def addition_number(value):\n",
    "    l = (value * (value + 1)) / 2\n",
    "    return l\n",
    "print(addition_number(3))\n"
   ]
  },
  {
   "cell_type": "code",
   "execution_count": 62,
   "metadata": {},
   "outputs": [
    {
     "name": "stdout",
     "output_type": "stream",
     "text": [
      "25502500 - 338350 = 25164150\n"
     ]
    }
   ],
   "source": [
    "#4 Using for loops to get the difference between the sums of the squares of the first one hundred \n",
    "# natural numbers and the square of the sum.\n",
    "\n",
    "def difference_Squares(n):\n",
    "    return k - total\n",
    "total=0\n",
    "for i in range(1,101):\n",
    "    total = total + i**2\n",
    "    i += 1\n",
    "total1 = 0\n",
    "for a in range(1,101):\n",
    "    total1 = total1 + a\n",
    "    a += 1\n",
    "k = total1**2\n",
    "l = difference_Squares(n)\n",
    "print(k, \"-\", total,\"=\", l)\n",
    "    "
   ]
  },
  {
   "cell_type": "code",
   "execution_count": 63,
   "metadata": {},
   "outputs": [
    {
     "name": "stdout",
     "output_type": "stream",
     "text": [
      "25164150.0\n"
     ]
    }
   ],
   "source": [
    "#4 alternative solution\n",
    "\n",
    "def Difference_squares(a):\n",
    "    sum_of_squares = (a * (a + 1) * (2 * a + 1)) / 6\n",
    "    sum_of_numbers = (a * (a + 1)) / 2\n",
    "    square_of_sum = sum_of_numbers**2\n",
    "    difference_of_sums = square_of_sum - sum_of_squares\n",
    "    return difference_of_sums\n",
    "print(Difference_squares(100))"
   ]
  },
  {
   "cell_type": "markdown",
   "metadata": {},
   "source": [
    "Write a function that allows a self-service Point of Sale system to give you the exact change when you pay in cash.\n",
    "\n",
    "The function should accept the number of cents entered by the caller of the function. It then should display the denominations of the coins that should be given to the buyer. The change should use as few coins as possible. Assume that the Point of Sale system is loaded with 1 cent, 5 cents, 10 cents, 25 cents and 1 peso coins.\n",
    "\n",
    "Write main program code that accepts the number of cents manually through user input and calls the function written above.\n",
    "\n",
    "Input: The program accepts one positive integer, cents, corresponding to the total change to be given by the Point of Sale system.\n",
    "\n",
    "Output: The number of 1 peso, 25 cents, 10 cents, 5 cents and 1 cent coins respectively. There should be one output per line.\n",
    "\n",
    "Sample Input 1:\n",
    "105\n",
    "\n",
    "Sample Output 1\n",
    "1\n",
    "0\n",
    "0\n",
    "1\n",
    "0\n",
    "\n",
    "Sample Input 2:\n",
    "69\n",
    "\n",
    "Sample Output 2:\n",
    "0\n",
    "2\n",
    "1\n",
    "1\n",
    "4\n",
    "\n",
    " "
   ]
  },
  {
   "cell_type": "code",
   "execution_count": 86,
   "metadata": {},
   "outputs": [
    {
     "name": "stdout",
     "output_type": "stream",
     "text": [
      "How much? 10\n",
      "1 peso coins: 0\n",
      "25 cent coins: 0\n",
      "10 cent coins: 1\n",
      "5 cent coins: 0\n",
      "1 cent coins: 0\n",
      "\n"
     ]
    }
   ],
   "source": [
    "def point_Of_Sale(a):\n",
    "    a = c\n",
    "    print(\"1 peso coins:\", a//100)\n",
    "    a %= 100\n",
    "    print(\"25 cent coins:\", a//25)\n",
    "    a %= 25\n",
    "    print(\"10 cent coins:\", a//10)\n",
    "    a %= 10\n",
    "    print(\"5 cent coins:\", a//5)\n",
    "    a %= 5\n",
    "    print(\"1 cent coins:\", a//1)\n",
    "    return \"\"\n",
    "    \n",
    "c=int(input('How much? '))\n",
    "print(point_Of_Sale(a))\n",
    "\n"
   ]
  },
  {
   "cell_type": "code",
   "execution_count": null,
   "metadata": {},
   "outputs": [],
   "source": []
  }
 ],
 "metadata": {
  "kernelspec": {
   "display_name": "Python 3",
   "language": "python",
   "name": "python3"
  },
  "language_info": {
   "codemirror_mode": {
    "name": "ipython",
    "version": 3
   },
   "file_extension": ".py",
   "mimetype": "text/x-python",
   "name": "python",
   "nbconvert_exporter": "python",
   "pygments_lexer": "ipython3",
   "version": "3.8.3"
  }
 },
 "nbformat": 4,
 "nbformat_minor": 4
}
